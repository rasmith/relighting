{
 "cells": [
  {
   "cell_type": "code",
   "execution_count": 1,
   "metadata": {},
   "outputs": [],
   "source": [
    "import pkgutil"
   ]
  },
  {
   "cell_type": "code",
   "execution_count": 2,
   "metadata": {},
   "outputs": [],
   "source": [
    "import importlib"
   ]
  },
  {
   "cell_type": "code",
   "execution_count": 3,
   "metadata": {},
   "outputs": [],
   "source": [
    "import tasks"
   ]
  },
  {
   "cell_type": "code",
   "execution_count": 4,
   "metadata": {},
   "outputs": [],
   "source": [
    "from trainer import Trainer"
   ]
  },
  {
   "cell_type": "code",
   "execution_count": 5,
   "metadata": {},
   "outputs": [],
   "source": [
    "from evaluator import Evaluator"
   ]
  },
  {
   "cell_type": "code",
   "execution_count": 6,
   "metadata": {},
   "outputs": [],
   "source": [
    "package = tasks"
   ]
  },
  {
   "cell_type": "code",
   "execution_count": 7,
   "metadata": {},
   "outputs": [
    {
     "name": "stdout",
     "output_type": "stream",
     "text": [
      "--------------------------------------------\n",
      "Found submodule ambient_occlusion (is a package: True)\n",
      "Task ambient_occlusion has enabled value of False\n",
      "Task data wrapper is None\n",
      "--------------------------------------------\n",
      "Found submodule curvature (is a package: True)\n",
      "Task curvature has enabled value of False\n",
      "Task data wrapper is None\n",
      "--------------------------------------------\n",
      "Found submodule depth (is a package: True)\n",
      "Task depth has enabled value of False\n",
      "Task data wrapper is None\n",
      "--------------------------------------------\n",
      "Found submodule diffuse_albedo (is a package: True)\n",
      "Task diffuse_albedo has enabled value of False\n",
      "Task data wrapper is None\n",
      "--------------------------------------------\n",
      "Found submodule dummy (is a package: True)\n",
      "Task dummy has enabled value of False\n",
      "Task data wrapper is <function <lambda> at 0x122277048>\n",
      "--------------------------------------------\n",
      "Found submodule dummy2 (is a package: True)\n",
      "Task dummy2 has enabled value of False\n",
      "Task data wrapper is <function <lambda> at 0x122277598>\n",
      "--------------------------------------------\n",
      "Found submodule edges (is a package: True)\n",
      "Task edges has enabled value of False\n",
      "Task data wrapper is None\n",
      "--------------------------------------------\n",
      "Found submodule normals (is a package: True)\n",
      "Task normals has enabled value of True\n",
      "Task data wrapper is <function <lambda> at 0x12223c048>\n",
      "selected device = cpu\n",
      "pytorch version = 0.4.1\n",
      "num_epochs = 2 len(dataset) = 8\n",
      "epoch [1/2], loss:0.1087\n"
     ]
    },
    {
     "ename": "AttributeError",
     "evalue": "'NoneType' object has no attribute 'add_scalar'",
     "output_type": "error",
     "traceback": [
      "\u001b[0;31m---------------------------------------------------------------------------\u001b[0m",
      "\u001b[0;31mAttributeError\u001b[0m                            Traceback (most recent call last)",
      "\u001b[0;32m<ipython-input-7-7742057802a5>\u001b[0m in \u001b[0;36m<module>\u001b[0;34m\u001b[0m\n\u001b[1;32m     12\u001b[0m         \u001b[0mt\u001b[0m \u001b[0;34m=\u001b[0m \u001b[0mTrainer\u001b[0m\u001b[0;34m(\u001b[0m\u001b[0mcfg_loader\u001b[0m\u001b[0;34m,\u001b[0m \u001b[0mdata_wrapper\u001b[0m\u001b[0;34m)\u001b[0m\u001b[0;34m\u001b[0m\u001b[0;34m\u001b[0m\u001b[0m\n\u001b[1;32m     13\u001b[0m         \u001b[0mt\u001b[0m\u001b[0;34m.\u001b[0m\u001b[0minit\u001b[0m\u001b[0;34m(\u001b[0m\u001b[0mdevice\u001b[0m\u001b[0;34m)\u001b[0m\u001b[0;34m\u001b[0m\u001b[0;34m\u001b[0m\u001b[0m\n\u001b[0;32m---> 14\u001b[0;31m         \u001b[0mt\u001b[0m\u001b[0;34m.\u001b[0m\u001b[0mtrain\u001b[0m\u001b[0;34m(\u001b[0m\u001b[0;34m)\u001b[0m\u001b[0;34m\u001b[0m\u001b[0;34m\u001b[0m\u001b[0m\n\u001b[0m\u001b[1;32m     15\u001b[0m         \u001b[0me\u001b[0m \u001b[0;34m=\u001b[0m \u001b[0mEvaluator\u001b[0m\u001b[0;34m(\u001b[0m\u001b[0mcfg_loader\u001b[0m\u001b[0;34m,\u001b[0m \u001b[0mdata_wrapper\u001b[0m\u001b[0;34m)\u001b[0m\u001b[0;34m\u001b[0m\u001b[0;34m\u001b[0m\u001b[0m\n\u001b[1;32m     16\u001b[0m         \u001b[0me\u001b[0m\u001b[0;34m.\u001b[0m\u001b[0minit\u001b[0m\u001b[0;34m(\u001b[0m\u001b[0mdevice\u001b[0m\u001b[0;34m)\u001b[0m\u001b[0;34m\u001b[0m\u001b[0;34m\u001b[0m\u001b[0m\n",
      "\u001b[0;32m~/projects/git/relighting/trainer.py\u001b[0m in \u001b[0;36mtrain\u001b[0;34m(self)\u001b[0m\n\u001b[1;32m     87\u001b[0m         \u001b[0;31m# ===================log========================\u001b[0m\u001b[0;34m\u001b[0m\u001b[0;34m\u001b[0m\u001b[0;34m\u001b[0m\u001b[0m\n\u001b[1;32m     88\u001b[0m         \u001b[0mprint\u001b[0m\u001b[0;34m(\u001b[0m\u001b[0;34mf'epoch [{epoch+1:d}/{num_epochs:d}], loss:{loss.item():.4f}'\u001b[0m\u001b[0;34m)\u001b[0m\u001b[0;34m\u001b[0m\u001b[0;34m\u001b[0m\u001b[0m\n\u001b[0;32m---> 89\u001b[0;31m         self.writer.add_scalar(f\"{self.task_cfg['task_name']}-loss\", \\\n\u001b[0m\u001b[1;32m     90\u001b[0m                                   loss.item(), epoch, time.time())\n\u001b[1;32m     91\u001b[0m \u001b[0;34m\u001b[0m\u001b[0m\n",
      "\u001b[0;31mAttributeError\u001b[0m: 'NoneType' object has no attribute 'add_scalar'"
     ]
    }
   ],
   "source": [
    "for importer, modname, ispkg in pkgutil.iter_modules(package.__path__):\n",
    "    print('--------------------------------------------')\n",
    "    print(f'Found submodule {modname} (is a package: {ispkg})')\n",
    "    target_task = importlib.import_module(f'{package.__name__}.{modname}')\n",
    "    enabled = target_task.cfg['enabled']\n",
    "    print(f'Task {modname} has enabled value of {enabled}')\n",
    "    data_wrapper = target_task.cfg['data_wrapper']\n",
    "    print(f'Task data wrapper is {data_wrapper}')\n",
    "    device = \"cpu\"\n",
    "    if enabled:\n",
    "        cfg_loader = target_task.CfgLoader()\n",
    "        t = Trainer(cfg_loader, data_wrapper)\n",
    "        t.init(device)\n",
    "        t.train()\n",
    "        e = Evaluator(cfg_loader, data_wrapper)\n",
    "        e.init(device)\n",
    "        e.evaluate()"
   ]
  },
  {
   "cell_type": "code",
   "execution_count": null,
   "metadata": {},
   "outputs": [],
   "source": []
  }
 ],
 "metadata": {
  "kernelspec": {
   "display_name": "Python 3",
   "language": "python",
   "name": "python3"
  },
  "language_info": {
   "codemirror_mode": {
    "name": "ipython",
    "version": 3
   },
   "file_extension": ".py",
   "mimetype": "text/x-python",
   "name": "python",
   "nbconvert_exporter": "python",
   "pygments_lexer": "ipython3",
   "version": "3.6.7"
  }
 },
 "nbformat": 4,
 "nbformat_minor": 2
}
