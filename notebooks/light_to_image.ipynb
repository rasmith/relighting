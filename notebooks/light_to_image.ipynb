{
 "cells": [
  {
   "cell_type": "code",
   "execution_count": 1,
   "metadata": {
    "collapsed": true
   },
   "outputs": [],
   "source": [
    "import torch"
   ]
  },
  {
   "cell_type": "code",
   "execution_count": 2,
   "metadata": {
    "collapsed": true
   },
   "outputs": [],
   "source": [
    "import torch.nn as nn"
   ]
  },
  {
   "cell_type": "code",
   "execution_count": 6,
   "metadata": {
    "collapsed": true
   },
   "outputs": [],
   "source": [
    "light_size=3"
   ]
  },
  {
   "cell_type": "code",
   "execution_count": 7,
   "metadata": {
    "collapsed": true
   },
   "outputs": [],
   "source": [
    "from numpy import linalg as la"
   ]
  },
  {
   "cell_type": "code",
   "execution_count": 23,
   "metadata": {
    "collapsed": true
   },
   "outputs": [],
   "source": [
    "light_position = torch.rand((1,3))"
   ]
  },
  {
   "cell_type": "code",
   "execution_count": 24,
   "metadata": {
    "collapsed": false
   },
   "outputs": [
    {
     "data": {
      "text/plain": [
       "torch.Tensor"
      ]
     },
     "execution_count": 24,
     "metadata": {},
     "output_type": "execute_result"
    }
   ],
   "source": [
    "type(light_position)"
   ]
  },
  {
   "cell_type": "code",
   "execution_count": 25,
   "metadata": {
    "collapsed": false
   },
   "outputs": [
    {
     "name": "stdout",
     "output_type": "stream",
     "text": [
      "tensor([[0.9017, 0.8474, 0.8100]])\n"
     ]
    }
   ],
   "source": [
    "print(light_position)"
   ]
  },
  {
   "cell_type": "code",
   "execution_count": 26,
   "metadata": {
    "collapsed": true
   },
   "outputs": [],
   "source": [
    "img=light_position.repeat(6, 6, 1)"
   ]
  },
  {
   "cell_type": "code",
   "execution_count": 27,
   "metadata": {
    "collapsed": false
   },
   "outputs": [
    {
     "data": {
      "text/plain": [
       "torch.Size([6, 6, 3])"
      ]
     },
     "execution_count": 27,
     "metadata": {},
     "output_type": "execute_result"
    }
   ],
   "source": [
    "img.shape"
   ]
  },
  {
   "cell_type": "code",
   "execution_count": 29,
   "metadata": {
    "collapsed": false
   },
   "outputs": [
    {
     "data": {
      "text/plain": [
       "tensor([0.9017, 0.8474, 0.8100])"
      ]
     },
     "execution_count": 29,
     "metadata": {},
     "output_type": "execute_result"
    }
   ],
   "source": [
    "img[0][0]"
   ]
  },
  {
   "cell_type": "code",
   "execution_count": 57,
   "metadata": {
    "collapsed": false
   },
   "outputs": [
    {
     "data": {
      "text/plain": [
       "torch.Size([1, 3, 6, 6])"
      ]
     },
     "execution_count": 57,
     "metadata": {},
     "output_type": "execute_result"
    }
   ],
   "source": [
    "img.permute((2, 0, 1)).unsqueeze(0).shape"
   ]
  },
  {
   "cell_type": "code",
   "execution_count": 45,
   "metadata": {
    "collapsed": true
   },
   "outputs": [],
   "source": [
    "x=torch.rand((1, 3, 6, 6))"
   ]
  },
  {
   "cell_type": "code",
   "execution_count": 52,
   "metadata": {
    "collapsed": false
   },
   "outputs": [
    {
     "data": {
      "text/plain": [
       "tensor([[[[0.8287, 0.0731, 0.5440, 0.0855, 0.5084, 0.3009],\n",
       "          [0.0813, 0.7854, 0.5659, 0.3435, 0.7670, 0.7568],\n",
       "          [0.4748, 0.9192, 0.6038, 0.2108, 0.6549, 0.4182],\n",
       "          [0.8787, 0.0753, 0.5271, 0.3589, 0.1788, 0.3477],\n",
       "          [0.7707, 0.4783, 0.6243, 0.4552, 0.2140, 0.6123],\n",
       "          [0.9489, 0.6648, 0.3219, 0.7975, 0.6295, 0.8089]],\n",
       "\n",
       "         [[0.1296, 0.6604, 0.5591, 0.4989, 0.2586, 0.7903],\n",
       "          [0.8603, 0.5162, 0.2454, 0.2129, 0.5301, 0.7549],\n",
       "          [0.2259, 0.7712, 0.5913, 0.6639, 0.3823, 0.5475],\n",
       "          [0.7397, 0.2914, 0.0727, 0.3658, 0.3928, 0.8585],\n",
       "          [0.9668, 0.4078, 0.4069, 0.2776, 0.3524, 0.6987],\n",
       "          [0.6746, 0.9352, 0.8597, 0.8617, 0.0859, 0.1276]],\n",
       "\n",
       "         [[0.6243, 0.4695, 0.7740, 0.2752, 0.9670, 0.9205],\n",
       "          [0.5099, 0.2579, 0.0619, 0.0762, 0.9242, 0.0701],\n",
       "          [0.8505, 0.9819, 0.7685, 0.0410, 0.8593, 0.6055],\n",
       "          [0.1043, 0.4558, 0.8570, 0.1089, 0.7892, 0.0735],\n",
       "          [0.8549, 0.1042, 0.1866, 0.5684, 0.3789, 0.9480],\n",
       "          [0.2369, 0.0908, 0.0687, 0.6696, 0.4680, 0.9041]]]])"
      ]
     },
     "execution_count": 52,
     "metadata": {},
     "output_type": "execute_result"
    }
   ],
   "source": [
    "x"
   ]
  },
  {
   "cell_type": "code",
   "execution_count": 56,
   "metadata": {
    "collapsed": false
   },
   "outputs": [
    {
     "ename": "AttributeError",
     "evalue": "module 'torch' has no attribute 'repeat'",
     "output_type": "error",
     "traceback": [
      "\u001b[0;31m---------------------------------------------------------------------------\u001b[0m",
      "\u001b[0;31mAttributeError\u001b[0m                            Traceback (most recent call last)",
      "\u001b[0;32m<ipython-input-56-8b8f6244b798>\u001b[0m in \u001b[0;36m<module>\u001b[0;34m\u001b[0m\n\u001b[0;32m----> 1\u001b[0;31m \u001b[0mtorch\u001b[0m\u001b[0;34m.\u001b[0m\u001b[0mrepeat\u001b[0m\u001b[0;34m\u001b[0m\u001b[0;34m\u001b[0m\u001b[0m\n\u001b[0m",
      "\u001b[0;31mAttributeError\u001b[0m: module 'torch' has no attribute 'repeat'"
     ]
    }
   ],
   "source": [
    "torch.repeat"
   ]
  },
  {
   "cell_type": "code",
   "execution_count": null,
   "metadata": {
    "collapsed": true
   },
   "outputs": [],
   "source": []
  }
 ],
 "metadata": {
  "kernelspec": {
   "display_name": "Python 3",
   "language": "python",
   "name": "python3"
  },
  "language_info": {
   "codemirror_mode": {
    "name": "ipython",
    "version": 3
   },
   "file_extension": ".py",
   "mimetype": "text/x-python",
   "name": "python",
   "nbconvert_exporter": "python",
   "pygments_lexer": "ipython3",
   "version": "3.6.7"
  }
 },
 "nbformat": 4,
 "nbformat_minor": 2
}
