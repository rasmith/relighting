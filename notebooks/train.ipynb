{
 "cells": [
  {
   "cell_type": "code",
   "execution_count": 1,
   "metadata": {},
   "outputs": [],
   "source": [
    "from trainer import Trainer"
   ]
  },
  {
   "cell_type": "code",
   "execution_count": 2,
   "metadata": {},
   "outputs": [],
   "source": [
    "from torch.utils.data import Subset"
   ]
  },
  {
   "cell_type": "code",
   "execution_count": 3,
   "metadata": {},
   "outputs": [],
   "source": [
    "dataset_wrapper = (lambda x :  Subset(x, [0, 1, 2, 3]))"
   ]
  },
  {
   "cell_type": "code",
   "execution_count": 4,
   "metadata": {},
   "outputs": [],
   "source": [
    "from tasks.dummy2 import CfgLoader"
   ]
  },
  {
   "cell_type": "code",
   "execution_count": 5,
   "metadata": {},
   "outputs": [],
   "source": [
    "t = Trainer(CfgLoader(), dataset_wrapper)"
   ]
  },
  {
   "cell_type": "code",
   "execution_count": 6,
   "metadata": {},
   "outputs": [
    {
     "name": "stdout",
     "output_type": "stream",
     "text": [
      "selected device = cpu\n"
     ]
    }
   ],
   "source": [
    "t.init(\"cpu\")"
   ]
  },
  {
   "cell_type": "code",
   "execution_count": 7,
   "metadata": {},
   "outputs": [
    {
     "name": "stdout",
     "output_type": "stream",
     "text": [
      "num_epochs = 20 len(dataset) = 4\n",
      "epoch [1/20], loss:0.1405\n",
      "epoch [2/20], loss:0.1217\n",
      "epoch [3/20], loss:0.0931\n",
      "epoch [4/20], loss:0.0879\n",
      "epoch [5/20], loss:0.0840\n",
      "epoch [6/20], loss:0.0943\n",
      "epoch [7/20], loss:0.0861\n",
      "epoch [8/20], loss:0.0882\n",
      "epoch [9/20], loss:0.0839\n",
      "epoch [10/20], loss:0.0831\n",
      "epoch [11/20], loss:0.0834\n",
      "epoch [12/20], loss:0.0818\n",
      "epoch [13/20], loss:0.0806\n",
      "epoch [14/20], loss:0.0784\n",
      "epoch [15/20], loss:0.0784\n",
      "epoch [16/20], loss:0.0775\n",
      "epoch [17/20], loss:0.0785\n",
      "epoch [18/20], loss:0.0787\n",
      "epoch [19/20], loss:0.0770\n",
      "epoch [20/20], loss:0.0762\n"
     ]
    }
   ],
   "source": [
    "t.train()"
   ]
  },
  {
   "cell_type": "code",
   "execution_count": null,
   "metadata": {},
   "outputs": [],
   "source": []
  }
 ],
 "metadata": {
  "kernelspec": {
   "display_name": "Python 3",
   "language": "python",
   "name": "python3"
  },
  "language_info": {
   "codemirror_mode": {
    "name": "ipython",
    "version": 3
   },
   "file_extension": ".py",
   "mimetype": "text/x-python",
   "name": "python",
   "nbconvert_exporter": "python",
   "pygments_lexer": "ipython3",
   "version": "3.7.0"
  }
 },
 "nbformat": 4,
 "nbformat_minor": 2
}
