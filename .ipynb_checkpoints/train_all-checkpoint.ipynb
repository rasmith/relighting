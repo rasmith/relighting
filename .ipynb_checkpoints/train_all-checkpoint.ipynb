{
 "cells": [
  {
   "cell_type": "code",
   "execution_count": 1,
   "metadata": {},
   "outputs": [],
   "source": [
    "import pkgutil"
   ]
  },
  {
   "cell_type": "code",
   "execution_count": 2,
   "metadata": {},
   "outputs": [],
   "source": [
    "import importlib"
   ]
  },
  {
   "cell_type": "code",
   "execution_count": 3,
   "metadata": {},
   "outputs": [],
   "source": [
    "import tasks"
   ]
  },
  {
   "cell_type": "code",
   "execution_count": 10,
   "metadata": {},
   "outputs": [],
   "source": [
    "from trainer import Trainer"
   ]
  },
  {
   "cell_type": "code",
   "execution_count": 11,
   "metadata": {},
   "outputs": [],
   "source": [
    "from evaluator import Evaluator"
   ]
  },
  {
   "cell_type": "code",
   "execution_count": 12,
   "metadata": {},
   "outputs": [],
   "source": [
    "package = tasks"
   ]
  },
  {
   "cell_type": "code",
   "execution_count": 16,
   "metadata": {},
   "outputs": [
    {
     "name": "stdout",
     "output_type": "stream",
     "text": [
      "--------------------------------------------\n",
      "Found submodule ambient_occlusion (is a package: True)\n",
      "Task ambient_occlusion has enabled value of False\n",
      "Task data wrapper is None\n",
      "--------------------------------------------\n",
      "Found submodule curvature (is a package: True)\n",
      "Task curvature has enabled value of False\n",
      "Task data wrapper is None\n",
      "--------------------------------------------\n",
      "Found submodule depth (is a package: True)\n",
      "Task depth has enabled value of False\n",
      "Task data wrapper is None\n",
      "--------------------------------------------\n",
      "Found submodule diffuse_albedo (is a package: True)\n",
      "Task diffuse_albedo has enabled value of False\n",
      "Task data wrapper is None\n",
      "--------------------------------------------\n",
      "Found submodule dummy (is a package: True)\n",
      "Task dummy has enabled value of True\n",
      "Task data wrapper is <function <lambda> at 0x11883bbf8>\n",
      "selected device = cpu\n",
      "num_epochs = 20 len(dataset) = 4\n",
      "epoch [1/20], loss:0.1414\n",
      "epoch [2/20], loss:0.1131\n",
      "epoch [3/20], loss:0.1059\n",
      "epoch [4/20], loss:0.0945\n",
      "epoch [5/20], loss:0.0908\n",
      "epoch [6/20], loss:0.0883\n",
      "epoch [7/20], loss:0.0913\n",
      "epoch [8/20], loss:0.0873\n",
      "epoch [9/20], loss:0.0832\n",
      "epoch [10/20], loss:0.0801\n",
      "epoch [11/20], loss:0.0807\n",
      "epoch [12/20], loss:0.0871\n",
      "epoch [13/20], loss:0.0787\n",
      "epoch [14/20], loss:0.0790\n",
      "epoch [15/20], loss:0.0775\n",
      "epoch [16/20], loss:0.0821\n",
      "epoch [17/20], loss:0.0821\n",
      "epoch [18/20], loss:0.0872\n",
      "epoch [19/20], loss:0.0761\n",
      "epoch [20/20], loss:0.0766\n",
      "selected device = cpu\n",
      "save_image ./eval/dummy/image_0000.png\n",
      "save_image ./eval/dummy/image_0001.png\n",
      "save_image ./eval/dummy/image_0002.png\n",
      "save_image ./eval/dummy/image_0003.png\n",
      "--------------------------------------------\n",
      "Found submodule dummy2 (is a package: True)\n",
      "Task dummy2 has enabled value of True\n",
      "Task data wrapper is <function <lambda> at 0x118846158>\n",
      "selected device = cpu\n",
      "num_epochs = 20 len(dataset) = 4\n",
      "epoch [1/20], loss:0.1581\n",
      "epoch [2/20], loss:0.1425\n",
      "epoch [3/20], loss:0.1328\n",
      "epoch [4/20], loss:0.1263\n",
      "epoch [5/20], loss:0.1114\n",
      "epoch [6/20], loss:0.1108\n",
      "epoch [7/20], loss:0.1145\n",
      "epoch [8/20], loss:0.0839\n",
      "epoch [9/20], loss:0.0781\n",
      "epoch [10/20], loss:0.0750\n",
      "epoch [11/20], loss:0.0736\n",
      "epoch [12/20], loss:0.0727\n",
      "epoch [13/20], loss:0.0760\n",
      "epoch [14/20], loss:0.0734\n",
      "epoch [15/20], loss:0.0787\n",
      "epoch [16/20], loss:0.0770\n",
      "epoch [17/20], loss:0.0757\n",
      "epoch [18/20], loss:0.0758\n",
      "epoch [19/20], loss:0.0744\n",
      "epoch [20/20], loss:0.0724\n",
      "selected device = cpu\n",
      "save_image ./eval/dummy2/image_0000.png\n",
      "save_image ./eval/dummy2/image_0001.png\n",
      "save_image ./eval/dummy2/image_0002.png\n",
      "save_image ./eval/dummy2/image_0003.png\n",
      "--------------------------------------------\n",
      "Found submodule edges (is a package: True)\n",
      "Task edges has enabled value of False\n",
      "Task data wrapper is None\n",
      "--------------------------------------------\n",
      "Found submodule normals (is a package: True)\n",
      "Task normals has enabled value of False\n",
      "Task data wrapper is None\n"
     ]
    }
   ],
   "source": [
    "for importer, modname, ispkg in pkgutil.iter_modules(package.__path__):\n",
    "    print('--------------------------------------------')\n",
    "    print(f'Found submodule {modname} (is a package: {ispkg})')\n",
    "    target_task = importlib.import_module(f'{package.__name__}.{modname}')\n",
    "    enabled = target_task.cfg['enabled']\n",
    "    print(f'Task {modname} has enabled value of {enabled}')\n",
    "    data_wrapper = target_task.cfg['data_wrapper']\n",
    "    print(f'Task data wrapper is {data_wrapper}')\n",
    "    device = \"cpu\"\n",
    "    if enabled:\n",
    "        cfg_loader = target_task.CfgLoader()\n",
    "        t = Trainer(cfg_loader, data_wrapper)\n",
    "        t.init(device)\n",
    "        t.train()\n",
    "        e = Evaluator(cfg_loader, data_wrapper)\n",
    "        e.init(device)\n",
    "        e.evaluate()"
   ]
  },
  {
   "cell_type": "code",
   "execution_count": null,
   "metadata": {},
   "outputs": [],
   "source": []
  }
 ],
 "metadata": {
  "kernelspec": {
   "display_name": "Python 3",
   "language": "python",
   "name": "python3"
  },
  "language_info": {
   "codemirror_mode": {
    "name": "ipython",
    "version": 3
   },
   "file_extension": ".py",
   "mimetype": "text/x-python",
   "name": "python",
   "nbconvert_exporter": "python",
   "pygments_lexer": "ipython3",
   "version": "3.7.0"
  }
 },
 "nbformat": 4,
 "nbformat_minor": 2
}
